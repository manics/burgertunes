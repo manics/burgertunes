{
 "cells": [
  {
   "cell_type": "code",
   "execution_count": null,
   "id": "805a4613-adfa-4cd1-90dd-fac548067d93",
   "metadata": {},
   "outputs": [],
   "source": [
    "from ytmusicapi import YTMusic\n",
    "from yt_dlp import YoutubeDL"
   ]
  },
  {
   "cell_type": "code",
   "execution_count": null,
   "id": "486bf620-f251-452a-aae1-3d217fe32847",
   "metadata": {},
   "outputs": [],
   "source": [
    "ytmusic = YTMusic()\n",
    "r = ytmusic.search(\"Sam Fender Borders\", \"songs\", limit=5)\n",
    "r[:5]"
   ]
  },
  {
   "cell_type": "code",
   "execution_count": null,
   "id": "31e4ee6d-9f0e-4b10-9532-5eb72af67935",
   "metadata": {},
   "outputs": [],
   "source": [
    "ydl_opts = {\n",
    "    'format': 'm4a/bestaudio/best',\n",
    "    # ℹ️ See help(yt_dlp.postprocessor) for a list of available Postprocessors and their arguments\n",
    "    'postprocessors': [{  # Extract audio using ffmpeg\n",
    "        'key': 'FFmpegExtractAudio',\n",
    "        'preferredcodec': 'm4a',\n",
    "    }]\n",
    "}\n",
    "yt = YoutubeDL(ydl_opts)"
   ]
  },
  {
   "cell_type": "code",
   "execution_count": null,
   "id": "e656a11e-8755-48f4-9dfa-e51c61fc136f",
   "metadata": {},
   "outputs": [],
   "source": [
    "yt.extract_info(r[0][\"videoId\"], download=False)"
   ]
  },
  {
   "cell_type": "code",
   "execution_count": null,
   "id": "6e03663e-68da-4959-a671-2bdb24322331",
   "metadata": {},
   "outputs": [],
   "source": [
    "yt.download(r[0][\"videoId\"])"
   ]
  }
 ],
 "metadata": {
  "kernelspec": {
   "display_name": "Python 3 (ipykernel)",
   "language": "python",
   "name": "python3"
  },
  "language_info": {
   "codemirror_mode": {
    "name": "ipython",
    "version": 3
   },
   "file_extension": ".py",
   "mimetype": "text/x-python",
   "name": "python",
   "nbconvert_exporter": "python",
   "pygments_lexer": "ipython3",
   "version": "3.7.12"
  }
 },
 "nbformat": 4,
 "nbformat_minor": 5
}
